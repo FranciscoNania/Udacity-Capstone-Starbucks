{
 "cells": [
  {
   "cell_type": "raw",
   "id": "306f3a9a-7637-45d8-84ca-daf385b1314e",
   "metadata": {},
   "source": [
    "PARTE 2\n",
    "Separar as pessoas que VISUALIZARAM ofertas.\n",
    "Anallisar gastos apos isto\n",
    "Analisar gasto dos outros\n",
    "plotar grafico comparativo de offers\n",
    "Analisar gastos antes e depois de visualizar\n",
    "\n",
    "PARTE 3\n",
    "Verificar quanto um cerumano gasta em media, baseado em idade, sexo e money. (talvez tambem no tempo de membership)\n",
    "\n",
    "PARTE 4 \n",
    "Analisar em quais grupos sociais quais ofertas sao mais eficazes\n",
    "fazer uma coluna de \"aderencia\" de ofertas e utilizar machine learning para prever eficiencia, lembrar tambem de ver canais que foram enviados\n",
    "\n",
    "PARTE 5\n",
    "Recomendar ofertas baseado na estimativa de gasto e em idade, sexo e money\n",
    "OU recomendar baseado na parte 4, que é mais legal\n",
    "\n",
    "\n",
    "PLUS\n",
    "\n",
    "FAZER ALGO COM A COLUNA DE OFFERS COMPLETAS\n",
    "VER A SUCCESS RATE DE CADA OFERTA E ANALISAR ISSO COM DURACAO E REWARD"
   ]
  },
  {
   "cell_type": "markdown",
   "id": "0c709362-0e72-4a02-9a79-4c7ba7c2df2f",
   "metadata": {},
   "source": [
    "### Analysis on Starbucks Offers dataset\n",
    "#### Udacity - DataScience Nanodegree Capstone Project\n",
    "\n",
    "\n",
    "### Section 1 - Business Understading\n",
    "\n",
    "#### The goal of this project is to analyze the Starbucks dataset provided by Udacity and answer a few questions:\n",
    "#### The effectiveness of each offer over the 30days period\n",
    "#### What offer is most suited for a new user\n",
    "#### How much a new user will spend, based on the offers they receive"
   ]
  },
  {
   "cell_type": "markdown",
   "id": "d020aabd-a461-4aa6-86cc-fac5990426de",
   "metadata": {},
   "source": [
    "### Section 2 - Data Understading"
   ]
  },
  {
   "cell_type": "code",
   "execution_count": 1,
   "id": "1742240d-16fe-47fd-8e39-a2460760740d",
   "metadata": {},
   "outputs": [],
   "source": [
    "#import libraries\n",
    "import pandas as pd\n",
    "import numpy as np\n",
    "import matplotlib.pyplot as plt\n",
    "import json\n",
    "import datetime as dt\n",
    "import seaborn as sns\n",
    "from sklearn.ensemble import RandomForestClassifier\n",
    "from sklearn.model_selection import train_test_split\n",
    "from sklearn.metrics import classification_report\n",
    "from sklearn.metrics import accuracy_score"
   ]
  },
  {
   "cell_type": "code",
   "execution_count": 2,
   "id": "4043b287-131b-4d5c-baf8-6e9d45dd8831",
   "metadata": {},
   "outputs": [],
   "source": [
    "# read in the json files\n",
    "portfolio = pd.read_json('data/portfolio.json', orient='records', lines=True)\n",
    "profile = pd.read_json('data/profile.json', orient='records', lines=True)\n",
    "transcript = pd.read_json('data/transcript.json', orient='records', lines=True)"
   ]
  },
  {
   "cell_type": "markdown",
   "id": "f7df3865-19e3-4b00-9d3c-4fd917c947ce",
   "metadata": {},
   "source": [
    "`1.` First, we need to have a better look at this data. Assigning numbers to the users in **profile.id** and **transcript.person** columns will make the visualization a lot easier. The same can be done with the offers from **portfolio.id** and **transcript.value**, with a few more steps."
   ]
  },
  {
   "cell_type": "code",
   "execution_count": 3,
   "id": "6a8b2adf-6390-40c9-929b-89fa4d4d8f53",
   "metadata": {
    "tags": []
   },
   "outputs": [],
   "source": [
    "#Defining a function to change the decrypted data into clear values, for easier visualization. I used the function from the classes with a few modifications\n",
    "\n",
    "def mapper(df, column_name):\n",
    "    '''\n",
    "    INPUT:\n",
    "    df - dataframe and column to change encoded data. Ex: df['id']\n",
    "    column_name(string) - name of the new column\n",
    "    \n",
    "    OUTPUT:\n",
    "    encoded - list of changed data to add to a dataframe\n",
    "    '''\n",
    "    coded_dict = dict()\n",
    "    cter = 1\n",
    "    encoded = []\n",
    "    \n",
    "    for val in df:\n",
    "        if val not in coded_dict:\n",
    "            coded_dict[val] = cter\n",
    "            cter+=1\n",
    "        \n",
    "        encoded.append(column_name + str(coded_dict[val]))\n",
    "    return encoded\n",
    "\n",
    "#Applying the function to the profile dataset first\n",
    "encoded = mapper(profile['id'],'user')\n",
    "\n",
    "profile['user'] = encoded\n"
   ]
  },
  {
   "cell_type": "code",
   "execution_count": 4,
   "id": "36d1e006-89bf-48c5-8b4b-cea0f4767bde",
   "metadata": {
    "tags": []
   },
   "outputs": [],
   "source": [
    "#Adding the users to the transcript dataset and then dropping the old encrypted columns\n",
    "transcript = transcript.join(profile.set_index('id').loc[:,['user']], on = 'person')\n",
    "transcript.drop('person', axis= 1, inplace = True)\n",
    "profile.drop('id',  axis= 1, inplace = True)"
   ]
  },
  {
   "cell_type": "code",
   "execution_count": 5,
   "id": "1c016bb0-df17-48e2-8de6-2d3b6f3c9e8f",
   "metadata": {},
   "outputs": [],
   "source": [
    "#Now doing some work on the 'value' column so I can apply a similar logic from the previous dataset\n",
    "transcript['value'] = transcript['value'].astype(str)\n",
    "transcript[['type', 'info']] = transcript['value'].str.split(':', n=1, expand = True)\n",
    "transcript[['info', 'reward']] = transcript['info'].str.split(',', expand= True)\n",
    "transcript['type'] = transcript['type'].map(lambda x: x.lstrip(\"'{'\").rstrip(\"'\"))\n",
    "transcript['info'] = transcript['info'].map(lambda x: x.lstrip(\" '\").rstrip(\"'}\"))\n",
    "transcript['reward'] = transcript['reward'].map(lambda x: x and x.lstrip(\"'reward': \").rstrip(\"}\"))"
   ]
  },
  {
   "cell_type": "code",
   "execution_count": 6,
   "id": "a9b00934-be62-4159-870b-747a08c579c6",
   "metadata": {},
   "outputs": [],
   "source": [
    "#Now that the dataset is more organized, I can use the mapper function and join with the transcript dataset one more time\n",
    "encoded = mapper(portfolio['id'], 'offer')\n",
    "portfolio['offer'] = encoded\n",
    "transcript = transcript.join(portfolio.set_index('id').loc[:,['offer']], on = 'info')\n"
   ]
  },
  {
   "cell_type": "code",
   "execution_count": 7,
   "id": "e66c1d16-1435-4356-ad75-8536b33262e9",
   "metadata": {},
   "outputs": [],
   "source": [
    "#Last step on cleaning the dataset is to create a column for the amount type, and remove both info and value columns as they are now obsolete.\n",
    "transcript.loc[transcript['type'] != 'amount', 'info'] = None\n",
    "transcript['amount'] = transcript['info'].astype(float).round(2)\n",
    "transcript.drop(['value', 'info'], axis= 1, inplace = True)"
   ]
  },
  {
   "cell_type": "markdown",
   "id": "31cf83b9-37aa-46cb-969e-2c0daab23164",
   "metadata": {
    "tags": []
   },
   "source": [
    "`2.` Now that the datasets are more organized, let's see their content and start working with them"
   ]
  },
  {
   "cell_type": "code",
   "execution_count": 8,
   "id": "c6234743-4013-4b3e-a48d-95c2b104d690",
   "metadata": {},
   "outputs": [
    {
     "data": {
      "text/html": [
       "<div>\n",
       "<style scoped>\n",
       "    .dataframe tbody tr th:only-of-type {\n",
       "        vertical-align: middle;\n",
       "    }\n",
       "\n",
       "    .dataframe tbody tr th {\n",
       "        vertical-align: top;\n",
       "    }\n",
       "\n",
       "    .dataframe thead th {\n",
       "        text-align: right;\n",
       "    }\n",
       "</style>\n",
       "<table border=\"1\" class=\"dataframe\">\n",
       "  <thead>\n",
       "    <tr style=\"text-align: right;\">\n",
       "      <th></th>\n",
       "      <th>gender</th>\n",
       "      <th>age</th>\n",
       "      <th>became_member_on</th>\n",
       "      <th>income</th>\n",
       "      <th>user</th>\n",
       "    </tr>\n",
       "  </thead>\n",
       "  <tbody>\n",
       "    <tr>\n",
       "      <th>0</th>\n",
       "      <td>None</td>\n",
       "      <td>118</td>\n",
       "      <td>20170212</td>\n",
       "      <td>NaN</td>\n",
       "      <td>user1</td>\n",
       "    </tr>\n",
       "    <tr>\n",
       "      <th>1</th>\n",
       "      <td>F</td>\n",
       "      <td>55</td>\n",
       "      <td>20170715</td>\n",
       "      <td>112000.0</td>\n",
       "      <td>user2</td>\n",
       "    </tr>\n",
       "    <tr>\n",
       "      <th>2</th>\n",
       "      <td>None</td>\n",
       "      <td>118</td>\n",
       "      <td>20180712</td>\n",
       "      <td>NaN</td>\n",
       "      <td>user3</td>\n",
       "    </tr>\n",
       "    <tr>\n",
       "      <th>3</th>\n",
       "      <td>F</td>\n",
       "      <td>75</td>\n",
       "      <td>20170509</td>\n",
       "      <td>100000.0</td>\n",
       "      <td>user4</td>\n",
       "    </tr>\n",
       "    <tr>\n",
       "      <th>4</th>\n",
       "      <td>None</td>\n",
       "      <td>118</td>\n",
       "      <td>20170804</td>\n",
       "      <td>NaN</td>\n",
       "      <td>user5</td>\n",
       "    </tr>\n",
       "  </tbody>\n",
       "</table>\n",
       "</div>"
      ],
      "text/plain": [
       "  gender  age  became_member_on    income   user\n",
       "0   None  118          20170212       NaN  user1\n",
       "1      F   55          20170715  112000.0  user2\n",
       "2   None  118          20180712       NaN  user3\n",
       "3      F   75          20170509  100000.0  user4\n",
       "4   None  118          20170804       NaN  user5"
      ]
     },
     "execution_count": 8,
     "metadata": {},
     "output_type": "execute_result"
    }
   ],
   "source": [
    "profile.head()"
   ]
  },
  {
   "cell_type": "code",
   "execution_count": 9,
   "id": "6d12f248-226d-436f-8049-7b8a21d25790",
   "metadata": {},
   "outputs": [
    {
     "data": {
      "text/html": [
       "<div>\n",
       "<style scoped>\n",
       "    .dataframe tbody tr th:only-of-type {\n",
       "        vertical-align: middle;\n",
       "    }\n",
       "\n",
       "    .dataframe tbody tr th {\n",
       "        vertical-align: top;\n",
       "    }\n",
       "\n",
       "    .dataframe thead th {\n",
       "        text-align: right;\n",
       "    }\n",
       "</style>\n",
       "<table border=\"1\" class=\"dataframe\">\n",
       "  <thead>\n",
       "    <tr style=\"text-align: right;\">\n",
       "      <th></th>\n",
       "      <th>event</th>\n",
       "      <th>time</th>\n",
       "      <th>user</th>\n",
       "      <th>type</th>\n",
       "      <th>reward</th>\n",
       "      <th>offer</th>\n",
       "      <th>amount</th>\n",
       "    </tr>\n",
       "  </thead>\n",
       "  <tbody>\n",
       "    <tr>\n",
       "      <th>0</th>\n",
       "      <td>offer received</td>\n",
       "      <td>0</td>\n",
       "      <td>user4</td>\n",
       "      <td>offer id</td>\n",
       "      <td>None</td>\n",
       "      <td>offer4</td>\n",
       "      <td>NaN</td>\n",
       "    </tr>\n",
       "    <tr>\n",
       "      <th>1</th>\n",
       "      <td>offer received</td>\n",
       "      <td>0</td>\n",
       "      <td>user5</td>\n",
       "      <td>offer id</td>\n",
       "      <td>None</td>\n",
       "      <td>offer5</td>\n",
       "      <td>NaN</td>\n",
       "    </tr>\n",
       "    <tr>\n",
       "      <th>2</th>\n",
       "      <td>offer received</td>\n",
       "      <td>0</td>\n",
       "      <td>user6</td>\n",
       "      <td>offer id</td>\n",
       "      <td>None</td>\n",
       "      <td>offer10</td>\n",
       "      <td>NaN</td>\n",
       "    </tr>\n",
       "    <tr>\n",
       "      <th>3</th>\n",
       "      <td>offer received</td>\n",
       "      <td>0</td>\n",
       "      <td>user7</td>\n",
       "      <td>offer id</td>\n",
       "      <td>None</td>\n",
       "      <td>offer7</td>\n",
       "      <td>NaN</td>\n",
       "    </tr>\n",
       "    <tr>\n",
       "      <th>4</th>\n",
       "      <td>offer received</td>\n",
       "      <td>0</td>\n",
       "      <td>user8</td>\n",
       "      <td>offer id</td>\n",
       "      <td>None</td>\n",
       "      <td>offer2</td>\n",
       "      <td>NaN</td>\n",
       "    </tr>\n",
       "  </tbody>\n",
       "</table>\n",
       "</div>"
      ],
      "text/plain": [
       "            event  time   user      type reward    offer  amount\n",
       "0  offer received     0  user4  offer id   None   offer4     NaN\n",
       "1  offer received     0  user5  offer id   None   offer5     NaN\n",
       "2  offer received     0  user6  offer id   None  offer10     NaN\n",
       "3  offer received     0  user7  offer id   None   offer7     NaN\n",
       "4  offer received     0  user8  offer id   None   offer2     NaN"
      ]
     },
     "execution_count": 9,
     "metadata": {},
     "output_type": "execute_result"
    }
   ],
   "source": [
    "transcript.head()"
   ]
  },
  {
   "cell_type": "code",
   "execution_count": 10,
   "id": "8e54c0dd-0473-4132-a98e-28044215080f",
   "metadata": {},
   "outputs": [
    {
     "data": {
      "text/html": [
       "<div>\n",
       "<style scoped>\n",
       "    .dataframe tbody tr th:only-of-type {\n",
       "        vertical-align: middle;\n",
       "    }\n",
       "\n",
       "    .dataframe tbody tr th {\n",
       "        vertical-align: top;\n",
       "    }\n",
       "\n",
       "    .dataframe thead th {\n",
       "        text-align: right;\n",
       "    }\n",
       "</style>\n",
       "<table border=\"1\" class=\"dataframe\">\n",
       "  <thead>\n",
       "    <tr style=\"text-align: right;\">\n",
       "      <th></th>\n",
       "      <th>reward</th>\n",
       "      <th>channels</th>\n",
       "      <th>difficulty</th>\n",
       "      <th>duration</th>\n",
       "      <th>offer_type</th>\n",
       "      <th>id</th>\n",
       "      <th>offer</th>\n",
       "    </tr>\n",
       "  </thead>\n",
       "  <tbody>\n",
       "    <tr>\n",
       "      <th>0</th>\n",
       "      <td>10</td>\n",
       "      <td>[email, mobile, social]</td>\n",
       "      <td>10</td>\n",
       "      <td>7</td>\n",
       "      <td>bogo</td>\n",
       "      <td>ae264e3637204a6fb9bb56bc8210ddfd</td>\n",
       "      <td>offer1</td>\n",
       "    </tr>\n",
       "    <tr>\n",
       "      <th>1</th>\n",
       "      <td>10</td>\n",
       "      <td>[web, email, mobile, social]</td>\n",
       "      <td>10</td>\n",
       "      <td>5</td>\n",
       "      <td>bogo</td>\n",
       "      <td>4d5c57ea9a6940dd891ad53e9dbe8da0</td>\n",
       "      <td>offer2</td>\n",
       "    </tr>\n",
       "    <tr>\n",
       "      <th>2</th>\n",
       "      <td>0</td>\n",
       "      <td>[web, email, mobile]</td>\n",
       "      <td>0</td>\n",
       "      <td>4</td>\n",
       "      <td>informational</td>\n",
       "      <td>3f207df678b143eea3cee63160fa8bed</td>\n",
       "      <td>offer3</td>\n",
       "    </tr>\n",
       "    <tr>\n",
       "      <th>3</th>\n",
       "      <td>5</td>\n",
       "      <td>[web, email, mobile]</td>\n",
       "      <td>5</td>\n",
       "      <td>7</td>\n",
       "      <td>bogo</td>\n",
       "      <td>9b98b8c7a33c4b65b9aebfe6a799e6d9</td>\n",
       "      <td>offer4</td>\n",
       "    </tr>\n",
       "    <tr>\n",
       "      <th>4</th>\n",
       "      <td>5</td>\n",
       "      <td>[web, email]</td>\n",
       "      <td>20</td>\n",
       "      <td>10</td>\n",
       "      <td>discount</td>\n",
       "      <td>0b1e1539f2cc45b7b9fa7c272da2e1d7</td>\n",
       "      <td>offer5</td>\n",
       "    </tr>\n",
       "    <tr>\n",
       "      <th>5</th>\n",
       "      <td>3</td>\n",
       "      <td>[web, email, mobile, social]</td>\n",
       "      <td>7</td>\n",
       "      <td>7</td>\n",
       "      <td>discount</td>\n",
       "      <td>2298d6c36e964ae4a3e7e9706d1fb8c2</td>\n",
       "      <td>offer6</td>\n",
       "    </tr>\n",
       "    <tr>\n",
       "      <th>6</th>\n",
       "      <td>2</td>\n",
       "      <td>[web, email, mobile, social]</td>\n",
       "      <td>10</td>\n",
       "      <td>10</td>\n",
       "      <td>discount</td>\n",
       "      <td>fafdcd668e3743c1bb461111dcafc2a4</td>\n",
       "      <td>offer7</td>\n",
       "    </tr>\n",
       "    <tr>\n",
       "      <th>7</th>\n",
       "      <td>0</td>\n",
       "      <td>[email, mobile, social]</td>\n",
       "      <td>0</td>\n",
       "      <td>3</td>\n",
       "      <td>informational</td>\n",
       "      <td>5a8bc65990b245e5a138643cd4eb9837</td>\n",
       "      <td>offer8</td>\n",
       "    </tr>\n",
       "    <tr>\n",
       "      <th>8</th>\n",
       "      <td>5</td>\n",
       "      <td>[web, email, mobile, social]</td>\n",
       "      <td>5</td>\n",
       "      <td>5</td>\n",
       "      <td>bogo</td>\n",
       "      <td>f19421c1d4aa40978ebb69ca19b0e20d</td>\n",
       "      <td>offer9</td>\n",
       "    </tr>\n",
       "    <tr>\n",
       "      <th>9</th>\n",
       "      <td>2</td>\n",
       "      <td>[web, email, mobile]</td>\n",
       "      <td>10</td>\n",
       "      <td>7</td>\n",
       "      <td>discount</td>\n",
       "      <td>2906b810c7d4411798c6938adc9daaa5</td>\n",
       "      <td>offer10</td>\n",
       "    </tr>\n",
       "  </tbody>\n",
       "</table>\n",
       "</div>"
      ],
      "text/plain": [
       "   reward                      channels  difficulty  duration     offer_type  \\\n",
       "0      10       [email, mobile, social]          10         7           bogo   \n",
       "1      10  [web, email, mobile, social]          10         5           bogo   \n",
       "2       0          [web, email, mobile]           0         4  informational   \n",
       "3       5          [web, email, mobile]           5         7           bogo   \n",
       "4       5                  [web, email]          20        10       discount   \n",
       "5       3  [web, email, mobile, social]           7         7       discount   \n",
       "6       2  [web, email, mobile, social]          10        10       discount   \n",
       "7       0       [email, mobile, social]           0         3  informational   \n",
       "8       5  [web, email, mobile, social]           5         5           bogo   \n",
       "9       2          [web, email, mobile]          10         7       discount   \n",
       "\n",
       "                                 id    offer  \n",
       "0  ae264e3637204a6fb9bb56bc8210ddfd   offer1  \n",
       "1  4d5c57ea9a6940dd891ad53e9dbe8da0   offer2  \n",
       "2  3f207df678b143eea3cee63160fa8bed   offer3  \n",
       "3  9b98b8c7a33c4b65b9aebfe6a799e6d9   offer4  \n",
       "4  0b1e1539f2cc45b7b9fa7c272da2e1d7   offer5  \n",
       "5  2298d6c36e964ae4a3e7e9706d1fb8c2   offer6  \n",
       "6  fafdcd668e3743c1bb461111dcafc2a4   offer7  \n",
       "7  5a8bc65990b245e5a138643cd4eb9837   offer8  \n",
       "8  f19421c1d4aa40978ebb69ca19b0e20d   offer9  \n",
       "9  2906b810c7d4411798c6938adc9daaa5  offer10  "
      ]
     },
     "execution_count": 10,
     "metadata": {},
     "output_type": "execute_result"
    }
   ],
   "source": [
    "portfolio.head(10)"
   ]
  },
  {
   "cell_type": "markdown",
   "id": "8f79e436-bfcb-4f00-9155-f404251be5a4",
   "metadata": {},
   "source": [
    "### Section 3 - Data Preparation\n",
    "\n",
    "#### The first goal of this project is to understand the effectiveness of each offer. The first step is preparing the transcript dataset, it contains all the information needed but for different types of events.\n"
   ]
  },
  {
   "cell_type": "code",
   "execution_count": 11,
   "id": "f227041c-ee6d-4460-9406-f27eb0dcd186",
   "metadata": {},
   "outputs": [],
   "source": [
    "#Splitting the transcript dataset into 4 smaller datasets, based on the 'event' column.\n",
    "amount = transcript.loc[transcript['event'] == 'transaction']\n",
    "viewed = transcript.loc[transcript['event'] == 'offer viewed']\n",
    "received = transcript.loc[transcript['event'] == 'offer received']\n",
    "completed = transcript.loc[transcript['event'] == 'offer completed']"
   ]
  },
  {
   "cell_type": "markdown",
   "id": "78e25246-c0e3-4b97-83de-501df37ec411",
   "metadata": {},
   "source": [
    "`1.` Every purchase made is either influenced by an offer or not, the minute an user visualize an offer, he is influeced by it, so let's split all the transactions made between those that are influenced by an offer and those that are not. I also assume that users are not influenced by offers made before the time zero.\n"
   ]
  },
  {
   "cell_type": "code",
   "execution_count": 12,
   "id": "f6d932a8-5605-40eb-978b-5fc588bf405d",
   "metadata": {},
   "outputs": [],
   "source": [
    "#Dataframe of purchases possibly influenced by an offer\n",
    "def offer_influence():\n",
    "    '''\n",
    "    This function split transactions before a certain time, when the user visualize an offer for the first time.\n",
    "    Used for transactions before visualizations and completed offers before visualization\n",
    "    \n",
    "\n",
    "    OUTPUT\n",
    "    \n",
    "    This function saves the result as pkl files so it loads faster\n",
    "    \n",
    "    no_influence.pkl - A dataframe of all transactions made that are not influenced by visualization of an offer\n",
    "    influence.pkl - A dataframe of all transactions made after an user visualizes an offer\n",
    "\n",
    "    '''\n",
    "    \n",
    "    df_before = pd.DataFrame()\n",
    "    df_after = pd.DataFrame()\n",
    "    list_iter = profile['user'].tolist()\n",
    "    \n",
    "    for user in list_iter:\n",
    "\n",
    "        #Dataframe1 for a single user to retrieve time\n",
    "        viewed_by_user = viewed.loc[viewed['user'] == user]\n",
    "\n",
    "        #Dataframe2 for a single user to be split before time and after time\n",
    "        amount_by_user = amount.loc[amount['user'] == user]\n",
    "\n",
    "        #Error in case the user didn't visualize a single offer\n",
    "        try:\n",
    "            first_time = viewed_by_user['time'].astype(int).tolist()[0] \n",
    "        except IndexError:\n",
    "            df_before = pd.concat([df_before,amount_by_user])\n",
    "\n",
    "    #dataframe of purchases that were made BEFORE first visualization of an offer\n",
    "        before = amount_by_user.loc[amount_by_user['time'] < first_time]\n",
    "    \n",
    "    #dataframe of purchases that were made AFTER first visualization of an offer    \n",
    "        after = amount_by_user.loc[amount_by_user['time'] >= first_time]\n",
    "    \n",
    "\n",
    "        df_before = pd.concat([df_before,before])\n",
    "        df_after = pd.concat([df_after,after])\n",
    "        \n",
    "    #save to pickle, this function can take a while so it can be skipped   \n",
    "    df_before.to_pickle('pickle files/no_influence.pkl')\n",
    "    df_after.to_pickle('pickle files/influence.pkl')\n",
    "\n",
    "    "
   ]
  },
  {
   "cell_type": "markdown",
   "id": "ec840715-71ea-4140-ad04-489618d50c3d",
   "metadata": {},
   "source": [
    "#### **The next cell can be skipped**"
   ]
  },
  {
   "cell_type": "code",
   "execution_count": 13,
   "id": "c1d20a72-a04c-4ff3-a7e9-418de897b4ce",
   "metadata": {},
   "outputs": [],
   "source": [
    "#This can take up to 20 minutes to calculate. Since it saves a pickle file, this cell can be skipped, or recalculated by removing the hashtag\n",
    "\n",
    "\n",
    "#offer_influence()"
   ]
  },
  {
   "cell_type": "code",
   "execution_count": 14,
   "id": "7f4127ba-23f4-4aa5-a596-2a2a0093b926",
   "metadata": {},
   "outputs": [],
   "source": [
    "#Read pickle files for influenced datasets\n",
    "no_influence = pd.read_pickle('pickle files/no_influence.pkl')\n",
    "influence = pd.read_pickle('pickle files/influence.pkl')"
   ]
  },
  {
   "cell_type": "code",
   "execution_count": 15,
   "id": "6ca6e9bf-3814-4fab-898d-8be74d57759b",
   "metadata": {},
   "outputs": [
    {
     "data": {
      "text/html": [
       "<div>\n",
       "<style scoped>\n",
       "    .dataframe tbody tr th:only-of-type {\n",
       "        vertical-align: middle;\n",
       "    }\n",
       "\n",
       "    .dataframe tbody tr th {\n",
       "        vertical-align: top;\n",
       "    }\n",
       "\n",
       "    .dataframe thead th {\n",
       "        text-align: right;\n",
       "    }\n",
       "</style>\n",
       "<table border=\"1\" class=\"dataframe\">\n",
       "  <thead>\n",
       "    <tr style=\"text-align: right;\">\n",
       "      <th></th>\n",
       "      <th>event</th>\n",
       "      <th>time</th>\n",
       "      <th>user</th>\n",
       "      <th>type</th>\n",
       "      <th>reward</th>\n",
       "      <th>offer</th>\n",
       "      <th>amount</th>\n",
       "    </tr>\n",
       "  </thead>\n",
       "  <tbody>\n",
       "    <tr>\n",
       "      <th>20282</th>\n",
       "      <td>transaction</td>\n",
       "      <td>18</td>\n",
       "      <td>user2</td>\n",
       "      <td>amount</td>\n",
       "      <td>None</td>\n",
       "      <td>NaN</td>\n",
       "      <td>21.51</td>\n",
       "    </tr>\n",
       "    <tr>\n",
       "      <th>49501</th>\n",
       "      <td>transaction</td>\n",
       "      <td>144</td>\n",
       "      <td>user2</td>\n",
       "      <td>amount</td>\n",
       "      <td>None</td>\n",
       "      <td>NaN</td>\n",
       "      <td>32.28</td>\n",
       "    </tr>\n",
       "    <tr>\n",
       "      <th>227842</th>\n",
       "      <td>transaction</td>\n",
       "      <td>528</td>\n",
       "      <td>user2</td>\n",
       "      <td>amount</td>\n",
       "      <td>None</td>\n",
       "      <td>NaN</td>\n",
       "      <td>23.22</td>\n",
       "    </tr>\n",
       "    <tr>\n",
       "      <th>20282</th>\n",
       "      <td>transaction</td>\n",
       "      <td>18</td>\n",
       "      <td>user2</td>\n",
       "      <td>amount</td>\n",
       "      <td>None</td>\n",
       "      <td>NaN</td>\n",
       "      <td>21.51</td>\n",
       "    </tr>\n",
       "    <tr>\n",
       "      <th>49501</th>\n",
       "      <td>transaction</td>\n",
       "      <td>144</td>\n",
       "      <td>user2</td>\n",
       "      <td>amount</td>\n",
       "      <td>None</td>\n",
       "      <td>NaN</td>\n",
       "      <td>32.28</td>\n",
       "    </tr>\n",
       "  </tbody>\n",
       "</table>\n",
       "</div>"
      ],
      "text/plain": [
       "              event  time   user    type reward offer  amount\n",
       "20282   transaction    18  user2  amount   None   NaN   21.51\n",
       "49501   transaction   144  user2  amount   None   NaN   32.28\n",
       "227842  transaction   528  user2  amount   None   NaN   23.22\n",
       "20282   transaction    18  user2  amount   None   NaN   21.51\n",
       "49501   transaction   144  user2  amount   None   NaN   32.28"
      ]
     },
     "execution_count": 15,
     "metadata": {},
     "output_type": "execute_result"
    }
   ],
   "source": [
    "#This users made purchases before visualizing any offers\n",
    "no_influence.head()"
   ]
  },
  {
   "cell_type": "code",
   "execution_count": 16,
   "id": "29431d3f-e9ad-410c-8097-2b8e014ab97a",
   "metadata": {},
   "outputs": [
    {
     "name": "stdout",
     "output_type": "stream",
     "text": [
      "Users spend $11.82 per month before visualizing any offers\n",
      "Users spend $12.87 per month after visualizing any offers\n"
     ]
    }
   ],
   "source": [
    "#Average transaction amount from users making purchases without viewing any offers\n",
    "print('Users spend ${} per month before visualizing any offers\\n'\n",
    "     'Users spend ${} per month after visualizing any offers'\n",
    "      .format(round(no_influence['amount'].mean(), 2),\n",
    "              round(influence['amount'].mean(), 2)))"
   ]
  },
  {
   "cell_type": "markdown",
   "id": "dc84f4bb-4d42-494f-b54e-c6d11873ffdc",
   "metadata": {},
   "source": [
    "`2.` So users spend \\\\$12.88 on average withtout the influence of offers, but \\\\$14,10 after, so it seems offer are indeed effective. However this analysis doesn't say how well each offer is doing, for that we need to do a similar approach, but for each offer. So everytime an user visualize a new offer I will assume he is now under the influence of that last visualization but no longer under the influence of the last visualized offer"
   ]
  },
  {
   "cell_type": "code",
   "execution_count": null,
   "id": "1faa05a0-0c8b-4175-8a57-78d749b06379",
   "metadata": {},
   "outputs": [],
   "source": [
    "list_duration = portfolio['duration'].tolist()\n",
    "duration = 48\n",
    "offer = 'offer1'\n",
    "user = 'user1'\n",
    "\n",
    "viewed_by_user = viewed.loc[viewed['user'] == user]"
   ]
  },
  {
   "cell_type": "code",
   "execution_count": 17,
   "id": "e87945f7-659e-4be7-bd1c-08a1153dae1c",
   "metadata": {},
   "outputs": [],
   "source": [
    "def single_offer_influence(offer, filename, df = profile['user']):\n",
    "        \n",
    "    '''\n",
    "    Function that saves as a pkl a dataframe with the influence from a single type of offer \n",
    "    \n",
    "    INPUT\n",
    "    offer - what offer it filters\n",
    "    df - Dataframe with column with list of users\n",
    "    filename - string to create pkl filename\n",
    "    \n",
    "    OUTPUT\n",
    "    \n",
    "    pickled dataset - This function creats a pickle file each time it's applied\n",
    "    '''\n",
    "\n",
    "    #List of all users\n",
    "    #def purchase_per_offer():\n",
    "    users = df.tolist()\n",
    "\n",
    "    #Dataset of said offer, it is saved to a pickle file after so they can all share the same name in the function\n",
    "    influeced_by_offer = pd.DataFrame()\n",
    "    for user in users:\n",
    "\n",
    "\n",
    "\n",
    "        #Dataset of all offers viewed by a user\n",
    "        viewed_by_user = viewed.loc[viewed['user'] == user]\n",
    "\n",
    "        #Dataset of all transactions made by a user\n",
    "        amount_by_user = amount.loc[amount['user'] == user]\n",
    "\n",
    "        #List of all the times a user visualized an especific offer\n",
    "        offer_initial_times = viewed_by_user.loc[viewed_by_user['offer'] == offer]['time'].tolist()\n",
    "\n",
    "        #List of all the time a user visualized an offer immediately after, also treats an error\n",
    "        #when the offer was the last seen\n",
    "\n",
    "        offer_final_times = []\n",
    "\n",
    "        #Since some offers are made more then once for the same user, a 'for' loop is needed:\n",
    "\n",
    "        for i in range(len(offer_initial_times)):\n",
    "            # Gets the index of an offer based on the time it was made. \n",
    "            index_offer = viewed_by_user.loc[viewed_by_user['time'] == offer_initial_times[i]].index\n",
    "            #Get the row of that index in the viewed_by_user dataframe\n",
    "            exact_row = viewed_by_user.index.get_loc(index_offer[0])\n",
    "            #Treats the IndexError I get when the item is the last on the viewed_by_user dataframe\n",
    "            try:\n",
    "                #If the user vizualised an offer after, it adds the time to a second list\n",
    "                next_row = viewed_by_user.iloc[[exact_row+1]]\n",
    "                offer_final_times.append(next_row['time'].item())\n",
    "            except IndexError:\n",
    "                #If the time is the last on the viewed_by_user, it adds the value 750 (higher then any transaction value)\n",
    "                offer_final_times.append(750)\n",
    "\n",
    "            #If the user vizualised an offer after, it adds the time to a second list\n",
    "\n",
    "            before = amount_by_user.loc[amount_by_user['time'] < offer_final_times[i]]\n",
    "            after = before.loc[before['time'] >= offer_initial_times[i]]\n",
    "            #Concatenate in a dataframe of all purchases made influenced by a single offer\n",
    "\n",
    "            influeced_by_offer = pd.concat([influeced_by_offer,after])\n",
    "    influeced_by_offer.to_pickle('pickle files/'+ filename)"
   ]
  },
  {
   "cell_type": "markdown",
   "id": "cd01cb7c-ee4c-48b1-a9b7-ab54ca8559e9",
   "metadata": {},
   "source": [
    "#### **The next cell can be skipped**"
   ]
  },
  {
   "cell_type": "code",
   "execution_count": 18,
   "id": "608e9f95-c682-40e6-bf2e-15adc4994621",
   "metadata": {},
   "outputs": [],
   "source": [
    "#List of all offers\n",
    "offers = portfolio['offer'].tolist()"
   ]
  },
  {
   "cell_type": "code",
   "execution_count": 19,
   "id": "fbfe432c-5637-47fb-93f0-8fe6cf86dbb4",
   "metadata": {},
   "outputs": [],
   "source": [
    "#This cell takes over 40min, but since it saves to a pickle file, we can skip it! Or remove the hashtags below to recalculate\n",
    "#for offer in offers:\n",
    "    #single_offer_influence(offer, offer +'_influence.pkl')"
   ]
  },
  {
   "cell_type": "markdown",
   "id": "4d38fe92-4603-46af-96c4-4cfba7434ebe",
   "metadata": {},
   "source": [
    "### Section 4A - Evaluation\n",
    "\n",
    "`1.` With this dataset it is possible to understand the results of each offer, however the visualization will be much simple in a plot\n"
   ]
  },
  {
   "cell_type": "code",
   "execution_count": 20,
   "id": "845a1046-5063-4794-9cb6-02830403b188",
   "metadata": {},
   "outputs": [],
   "source": [
    "#Getting only the value and adding it to a list so it is not needed to load 40 datasets. Also it is important to add the values from the 'no_influence' dataset.\n",
    "\n",
    "offers_barplot = portfolio['offer'].tolist()\n",
    "offer_means = []\n",
    "for offer in offers:\n",
    "    temp = pd.read_pickle('pickle files/' + offer + '_influence.pkl')\n",
    "    offer_means.append(round(temp['amount'].mean(), 2))\n",
    "offers_barplot.insert(0,'no_offer')\n",
    "offer_means.insert(0,round(no_influence['amount'].mean(), 2))"
   ]
  },
  {
   "cell_type": "code",
   "execution_count": 21,
   "id": "f5e5e833-c427-4684-8045-962a1f8a15a9",
   "metadata": {},
   "outputs": [
    {
     "data": {
      "image/png": "[encoded data removed]",
      "text/plain": [
       "<Figure size 900x500 with 1 Axes>"
      ]
     },
     "metadata": {
      "needs_background": "light"
     },
     "output_type": "display_data"
    }
   ],
   "source": [
    "#Plot\n",
    "fig=plt.figure(figsize=(9,5), dpi= 100)\n",
    "ax = fig.add_subplot()\n",
    "plt.bar(offers_barplot, offer_means, width = 0.4)\n",
    "\n",
    "ax.set_ylabel('Amount')\n",
    "ax.set_xlabel('Offers')\n",
    "ax.set_title('Average amount spent per offer')\n",
    "def addlabels(x,y):\n",
    "    for i in range(len(x)):\n",
    "        ax.text(i, y[i], y[i], ha = 'center')\n",
    "addlabels(offers_barplot, offer_means)\n",
    "plt.show()"
   ]
  },
  {
   "cell_type": "raw",
   "id": "7bb6116b-cec1-4bed-bec2-6a508ae63463",
   "metadata": {},
   "source": [
    "ESCREVER AQUI E CONTINUAR DOCUMENTACAO"
   ]
  },
  {
   "cell_type": "code",
   "execution_count": 22,
   "id": "26ec548e-1636-4a1b-9b37-38d183d36c96",
   "metadata": {},
   "outputs": [],
   "source": [
    "male_below = profile.loc[(profile['income'] <= profile['income'].mean()) & (profile['gender'] == 'M')]\n",
    "female_below = profile.loc[(profile['income'] <= profile['income'].mean()) & (profile['gender'] == 'F')]\n",
    "male_above = profile.loc[(profile['income'] > profile['income'].mean()) & (profile['gender'] == 'M')]\n",
    "female_above = profile.loc[(profile['income'] > profile['income'].mean()) & (profile['gender'] == 'F')]"
   ]
  },
  {
   "cell_type": "markdown",
   "id": "9a29f5b3-ff94-46fa-bdff-e7f0758db1b1",
   "metadata": {},
   "source": [
    "#### **The next cell can be skipped**"
   ]
  },
  {
   "cell_type": "code",
   "execution_count": 23,
   "id": "e9299039-a622-4b66-a6a3-7db967af87b2",
   "metadata": {},
   "outputs": [],
   "source": [
    "#This cell takes over 40min, but since it saves to a pickle file, we can skip it! To recalculate the datasets simple remove the hashtags below\n",
    "\n",
    "\n",
    "#for offer in offers:\n",
    "#    single_offer_influence(offer, 'MB_' + offer +'_influence.pkl', male_below['user'])\n",
    "\n",
    "#for offer in offers:\n",
    "#    single_offer_influence(offer, 'FB_' + offer +'_influence.pkl', female_below['user'])    \n",
    "\n",
    "#for offer in offers:\n",
    "#    single_offer_influence(offer, 'MA_' + offer +'_influence.pkl', male_above['user'])\n",
    "\n",
    "#for offer in offers:\n",
    "#    single_offer_influence(offer, 'FA_' + offer +'_influence.pkl', female_above['user'])    "
   ]
  },
  {
   "cell_type": "code",
   "execution_count": 24,
   "id": "dfcb7711-cba5-44b7-a5ba-47e0f26dad6e",
   "metadata": {},
   "outputs": [],
   "source": [
    "no_influence_mean = [round(no_influence.loc[no_influence['user'].isin(male_below['user'])].mean()[3], 2),\n",
    "                    round(no_influence.loc[no_influence['user'].isin(female_below['user'])].mean()[3], 2),\n",
    "                    round(no_influence.loc[no_influence['user'].isin(male_above['user'])].mean()[3], 2),\n",
    "                    round(no_influence.loc[no_influence['user'].isin(female_above['user'])].mean()[3], 2)]\n",
    "                                     "
   ]
  },
  {
   "cell_type": "code",
   "execution_count": 61,
   "id": "2e2d5fcf-1334-4c4b-96f3-080387e0777b",
   "metadata": {},
   "outputs": [],
   "source": [
    "offer_means_MB = []\n",
    "offer_means_FB = []\n",
    "offer_means_MA = []\n",
    "offer_means_FA = []\n",
    "\n",
    "for offer in offers:\n",
    "    temp = pd.read_pickle('pickle files/' + 'MB_' + offer + '_influence.pkl')\n",
    "    offer_means_MB.append(round(temp['amount'].mean(), 2))\n",
    "for offer in offers:\n",
    "    temp = pd.read_pickle('pickle files/' + 'FB_' + offer + '_influence.pkl')\n",
    "    offer_means_FB.append(round(temp['amount'].mean(), 2))\n",
    "for offer in offers:\n",
    "    temp = pd.read_pickle('pickle files/' + 'MA_' + offer + '_influence.pkl')\n",
    "    offer_means_MA.append(round(temp['amount'].mean(), 2))\n",
    "for offer in offers:\n",
    "    temp = pd.read_pickle('pickle files/' + 'FA_' + offer + '_influence.pkl')\n",
    "    offer_means_FA.append(round(temp['amount'].mean(), 2))\n"
   ]
  },
  {
   "cell_type": "code",
   "execution_count": 62,
   "id": "5f825aec-5b07-46c4-b4e3-81a6c3b4559e",
   "metadata": {},
   "outputs": [],
   "source": [
    "offer_means_MB.insert(0, no_influence_mean[0])\n",
    "offer_means_FB.insert(0, no_influence_mean[1])\n",
    "offer_means_MA.insert(0, no_influence_mean[2])\n",
    "offer_means_FA.insert(0, no_influence_mean[3])"
   ]
  },
  {
   "cell_type": "code",
   "execution_count": 57,
   "id": "7ee5fc85-61ec-4349-9594-5040c1beca96",
   "metadata": {},
   "outputs": [
    {
     "data": {
      "text/plain": [
       "[[7.18, 9.7, 18.06, 23.26],\n",
       " [7.23, 10.69, 17.42, 23.62],\n",
       " [7.12, 9.86, 19.45, 24.11],\n",
       " [10.45, 12.2, 20.41, 24.67],\n",
       " [8.95, 11.57, 21.44, 24.24],\n",
       " [11.62, 15.57, 24.32, 24.6],\n",
       " [6.95, 11.47, 17.6, 23.66],\n",
       " [7.41, 10.44, 20.61, 24.51],\n",
       " [7.06, 11.58, 18.57, 22.56],\n",
       " [7.66, 11.3, 19.0, 25.75],\n",
       " [9.98, 11.44, 21.92, 24.39]]"
      ]
     },
     "execution_count": 57,
     "metadata": {},
     "output_type": "execute_result"
    }
   ],
   "source": [
    "list_means_split = [list(x) for x in list(zip(offer_means_MB, offer_means_FB, offer_means_MA, offer_means_FA))]\n",
    "list_means_split.insert(0, no_influence_mean)"
   ]
  },
  {
   "cell_type": "code",
   "execution_count": 83,
   "id": "6b8aa06d-2d15-46dd-a0be-f9499944f6f0",
   "metadata": {},
   "outputs": [
    {
     "data": {
      "image/png": "[encoded data removed]",
      "text/plain": [
       "<Figure size 1200x700 with 1 Axes>"
      ]
     },
     "metadata": {
      "needs_background": "light"
     },
     "output_type": "display_data"
    }
   ],
   "source": [
    "fig=plt.figure(figsize=(12,7), dpi= 100)\n",
    "ax = fig.add_subplot()\n",
    "\n",
    "ind = np.arange(11)\n",
    "width = 0.2\n",
    "\n",
    "plt.bar(ind, offer_means_MB , width, label = 'Males, income below avg')\n",
    "plt.bar(ind + width, offer_means_FB, width, label = 'Females, income below avg')\n",
    "plt.bar(ind + 2*width, offer_means_MA, width, label = 'Males, income above avg')\n",
    "plt.bar(ind + 3*width, offer_means_FA, width, label = 'Females, income above avg')\n",
    "\n",
    "\n",
    "#plt.bar(offers_barplot, offer_means_MB, width = 0.4)\n",
    "#plt.bar(offers_barplot, offer_means_FB, width = 0.4)\n",
    "\n",
    "ax.set_ylabel('Amount')\n",
    "ax.set_xlabel('Offers')\n",
    "ax.set_title('Average amount spent per offer')\n",
    "\n",
    "plt.ylim((0,30))\n",
    "plt.xticks(ind + 0.4 / 2, offers_barplot)\n",
    "\n",
    "plt.legend(loc='best')\n",
    "plt.show()"
   ]
  },
  {
   "cell_type": "code",
   "execution_count": null,
   "id": "a1be68c8-8da4-4c9d-9ef5-3df1cb8b209b",
   "metadata": {},
   "outputs": [],
   "source": []
  },
  {
   "cell_type": "raw",
   "id": "b1e5e75d-93eb-4347-92c4-bc0bfd01ea56",
   "metadata": {},
   "source": [
    "PARTE 3\n",
    "\n",
    "Pegar as ofertas para cada usuario, elas influenciaram"
   ]
  },
  {
   "cell_type": "code",
   "execution_count": 31,
   "id": "c775eea4-f15b-449c-a034-8932bee54129",
   "metadata": {},
   "outputs": [],
   "source": [
    "amount_per_user = amount.groupby('user', as_index=False, sort=False)['amount'].sum()\n",
    "profile = pd.merge(amount_per_user, profile, left_on = 'user', right_on = 'user', how = 'inner')"
   ]
  },
  {
   "cell_type": "code",
   "execution_count": 32,
   "id": "02518715-329c-4437-84b6-afe725bcad25",
   "metadata": {},
   "outputs": [],
   "source": [
    "profile = profile.dropna()"
   ]
  },
  {
   "cell_type": "code",
   "execution_count": 33,
   "id": "6fc925dc-ab5a-4e6a-a722-8aeb16958a26",
   "metadata": {},
   "outputs": [
    {
     "data": {
      "text/html": [
       "<div>\n",
       "<style scoped>\n",
       "    .dataframe tbody tr th:only-of-type {\n",
       "        vertical-align: middle;\n",
       "    }\n",
       "\n",
       "    .dataframe tbody tr th {\n",
       "        vertical-align: top;\n",
       "    }\n",
       "\n",
       "    .dataframe thead th {\n",
       "        text-align: right;\n",
       "    }\n",
       "</style>\n",
       "<table border=\"1\" class=\"dataframe\">\n",
       "  <thead>\n",
       "    <tr style=\"text-align: right;\">\n",
       "      <th></th>\n",
       "      <th>user</th>\n",
       "      <th>amount</th>\n",
       "      <th>gender</th>\n",
       "      <th>age</th>\n",
       "      <th>became_member_on</th>\n",
       "      <th>income</th>\n",
       "    </tr>\n",
       "  </thead>\n",
       "  <tbody>\n",
       "    <tr>\n",
       "      <th>0</th>\n",
       "      <td>user42</td>\n",
       "      <td>29.89</td>\n",
       "      <td>F</td>\n",
       "      <td>20</td>\n",
       "      <td>20160711</td>\n",
       "      <td>30000.0</td>\n",
       "    </tr>\n",
       "    <tr>\n",
       "      <th>1</th>\n",
       "      <td>user56</td>\n",
       "      <td>320.48</td>\n",
       "      <td>M</td>\n",
       "      <td>42</td>\n",
       "      <td>20160117</td>\n",
       "      <td>96000.0</td>\n",
       "    </tr>\n",
       "    <tr>\n",
       "      <th>2</th>\n",
       "      <td>user64</td>\n",
       "      <td>118.85</td>\n",
       "      <td>M</td>\n",
       "      <td>36</td>\n",
       "      <td>20171228</td>\n",
       "      <td>56000.0</td>\n",
       "    </tr>\n",
       "    <tr>\n",
       "      <th>3</th>\n",
       "      <td>user135</td>\n",
       "      <td>195.35</td>\n",
       "      <td>F</td>\n",
       "      <td>55</td>\n",
       "      <td>20171016</td>\n",
       "      <td>94000.0</td>\n",
       "    </tr>\n",
       "    <tr>\n",
       "      <th>4</th>\n",
       "      <td>user152</td>\n",
       "      <td>562.77</td>\n",
       "      <td>F</td>\n",
       "      <td>39</td>\n",
       "      <td>20171217</td>\n",
       "      <td>67000.0</td>\n",
       "    </tr>\n",
       "    <tr>\n",
       "      <th>...</th>\n",
       "      <td>...</td>\n",
       "      <td>...</td>\n",
       "      <td>...</td>\n",
       "      <td>...</td>\n",
       "      <td>...</td>\n",
       "      <td>...</td>\n",
       "    </tr>\n",
       "    <tr>\n",
       "      <th>16571</th>\n",
       "      <td>user3335</td>\n",
       "      <td>14.68</td>\n",
       "      <td>F</td>\n",
       "      <td>72</td>\n",
       "      <td>20180318</td>\n",
       "      <td>74000.0</td>\n",
       "    </tr>\n",
       "    <tr>\n",
       "      <th>16574</th>\n",
       "      <td>user12382</td>\n",
       "      <td>3.19</td>\n",
       "      <td>M</td>\n",
       "      <td>50</td>\n",
       "      <td>20180107</td>\n",
       "      <td>60000.0</td>\n",
       "    </tr>\n",
       "    <tr>\n",
       "      <th>16575</th>\n",
       "      <td>user13051</td>\n",
       "      <td>15.35</td>\n",
       "      <td>F</td>\n",
       "      <td>73</td>\n",
       "      <td>20180501</td>\n",
       "      <td>65000.0</td>\n",
       "    </tr>\n",
       "    <tr>\n",
       "      <th>16576</th>\n",
       "      <td>user13346</td>\n",
       "      <td>0.76</td>\n",
       "      <td>M</td>\n",
       "      <td>42</td>\n",
       "      <td>20171104</td>\n",
       "      <td>69000.0</td>\n",
       "    </tr>\n",
       "    <tr>\n",
       "      <th>16577</th>\n",
       "      <td>user16339</td>\n",
       "      <td>11.44</td>\n",
       "      <td>M</td>\n",
       "      <td>56</td>\n",
       "      <td>20171024</td>\n",
       "      <td>61000.0</td>\n",
       "    </tr>\n",
       "  </tbody>\n",
       "</table>\n",
       "<p>14492 rows × 6 columns</p>\n",
       "</div>"
      ],
      "text/plain": [
       "            user  amount gender  age  became_member_on   income\n",
       "0         user42   29.89      F   20          20160711  30000.0\n",
       "1         user56  320.48      M   42          20160117  96000.0\n",
       "2         user64  118.85      M   36          20171228  56000.0\n",
       "3        user135  195.35      F   55          20171016  94000.0\n",
       "4        user152  562.77      F   39          20171217  67000.0\n",
       "...          ...     ...    ...  ...               ...      ...\n",
       "16571   user3335   14.68      F   72          20180318  74000.0\n",
       "16574  user12382    3.19      M   50          20180107  60000.0\n",
       "16575  user13051   15.35      F   73          20180501  65000.0\n",
       "16576  user13346    0.76      M   42          20171104  69000.0\n",
       "16577  user16339   11.44      M   56          20171024  61000.0\n",
       "\n",
       "[14492 rows x 6 columns]"
      ]
     },
     "execution_count": 33,
     "metadata": {},
     "output_type": "execute_result"
    }
   ],
   "source": [
    "profile"
   ]
  },
  {
   "cell_type": "code",
   "execution_count": 34,
   "id": "5b43b4e7-94a9-4d7b-8447-483b4bb06e49",
   "metadata": {},
   "outputs": [],
   "source": [
    "profileb = pd.get_dummies(profile, columns = ['gender'])"
   ]
  },
  {
   "cell_type": "code",
   "execution_count": 35,
   "id": "deaa7c6c-883d-457f-bb9f-2a8c226674f2",
   "metadata": {},
   "outputs": [
    {
     "data": {
      "text/html": [
       "<div>\n",
       "<style scoped>\n",
       "    .dataframe tbody tr th:only-of-type {\n",
       "        vertical-align: middle;\n",
       "    }\n",
       "\n",
       "    .dataframe tbody tr th {\n",
       "        vertical-align: top;\n",
       "    }\n",
       "\n",
       "    .dataframe thead th {\n",
       "        text-align: right;\n",
       "    }\n",
       "</style>\n",
       "<table border=\"1\" class=\"dataframe\">\n",
       "  <thead>\n",
       "    <tr style=\"text-align: right;\">\n",
       "      <th></th>\n",
       "      <th>user</th>\n",
       "      <th>amount</th>\n",
       "      <th>age</th>\n",
       "      <th>became_member_on</th>\n",
       "      <th>income</th>\n",
       "      <th>gender_F</th>\n",
       "      <th>gender_M</th>\n",
       "      <th>gender_O</th>\n",
       "    </tr>\n",
       "  </thead>\n",
       "  <tbody>\n",
       "    <tr>\n",
       "      <th>0</th>\n",
       "      <td>user42</td>\n",
       "      <td>29.89</td>\n",
       "      <td>20</td>\n",
       "      <td>20160711</td>\n",
       "      <td>30000.0</td>\n",
       "      <td>1</td>\n",
       "      <td>0</td>\n",
       "      <td>0</td>\n",
       "    </tr>\n",
       "    <tr>\n",
       "      <th>1</th>\n",
       "      <td>user56</td>\n",
       "      <td>320.48</td>\n",
       "      <td>42</td>\n",
       "      <td>20160117</td>\n",
       "      <td>96000.0</td>\n",
       "      <td>0</td>\n",
       "      <td>1</td>\n",
       "      <td>0</td>\n",
       "    </tr>\n",
       "    <tr>\n",
       "      <th>2</th>\n",
       "      <td>user64</td>\n",
       "      <td>118.85</td>\n",
       "      <td>36</td>\n",
       "      <td>20171228</td>\n",
       "      <td>56000.0</td>\n",
       "      <td>0</td>\n",
       "      <td>1</td>\n",
       "      <td>0</td>\n",
       "    </tr>\n",
       "    <tr>\n",
       "      <th>3</th>\n",
       "      <td>user135</td>\n",
       "      <td>195.35</td>\n",
       "      <td>55</td>\n",
       "      <td>20171016</td>\n",
       "      <td>94000.0</td>\n",
       "      <td>1</td>\n",
       "      <td>0</td>\n",
       "      <td>0</td>\n",
       "    </tr>\n",
       "    <tr>\n",
       "      <th>4</th>\n",
       "      <td>user152</td>\n",
       "      <td>562.77</td>\n",
       "      <td>39</td>\n",
       "      <td>20171217</td>\n",
       "      <td>67000.0</td>\n",
       "      <td>1</td>\n",
       "      <td>0</td>\n",
       "      <td>0</td>\n",
       "    </tr>\n",
       "    <tr>\n",
       "      <th>...</th>\n",
       "      <td>...</td>\n",
       "      <td>...</td>\n",
       "      <td>...</td>\n",
       "      <td>...</td>\n",
       "      <td>...</td>\n",
       "      <td>...</td>\n",
       "      <td>...</td>\n",
       "      <td>...</td>\n",
       "    </tr>\n",
       "    <tr>\n",
       "      <th>16571</th>\n",
       "      <td>user3335</td>\n",
       "      <td>14.68</td>\n",
       "      <td>72</td>\n",
       "      <td>20180318</td>\n",
       "      <td>74000.0</td>\n",
       "      <td>1</td>\n",
       "      <td>0</td>\n",
       "      <td>0</td>\n",
       "    </tr>\n",
       "    <tr>\n",
       "      <th>16574</th>\n",
       "      <td>user12382</td>\n",
       "      <td>3.19</td>\n",
       "      <td>50</td>\n",
       "      <td>20180107</td>\n",
       "      <td>60000.0</td>\n",
       "      <td>0</td>\n",
       "      <td>1</td>\n",
       "      <td>0</td>\n",
       "    </tr>\n",
       "    <tr>\n",
       "      <th>16575</th>\n",
       "      <td>user13051</td>\n",
       "      <td>15.35</td>\n",
       "      <td>73</td>\n",
       "      <td>20180501</td>\n",
       "      <td>65000.0</td>\n",
       "      <td>1</td>\n",
       "      <td>0</td>\n",
       "      <td>0</td>\n",
       "    </tr>\n",
       "    <tr>\n",
       "      <th>16576</th>\n",
       "      <td>user13346</td>\n",
       "      <td>0.76</td>\n",
       "      <td>42</td>\n",
       "      <td>20171104</td>\n",
       "      <td>69000.0</td>\n",
       "      <td>0</td>\n",
       "      <td>1</td>\n",
       "      <td>0</td>\n",
       "    </tr>\n",
       "    <tr>\n",
       "      <th>16577</th>\n",
       "      <td>user16339</td>\n",
       "      <td>11.44</td>\n",
       "      <td>56</td>\n",
       "      <td>20171024</td>\n",
       "      <td>61000.0</td>\n",
       "      <td>0</td>\n",
       "      <td>1</td>\n",
       "      <td>0</td>\n",
       "    </tr>\n",
       "  </tbody>\n",
       "</table>\n",
       "<p>14492 rows × 8 columns</p>\n",
       "</div>"
      ],
      "text/plain": [
       "            user  amount  age  became_member_on   income  gender_F  gender_M  \\\n",
       "0         user42   29.89   20          20160711  30000.0         1         0   \n",
       "1         user56  320.48   42          20160117  96000.0         0         1   \n",
       "2         user64  118.85   36          20171228  56000.0         0         1   \n",
       "3        user135  195.35   55          20171016  94000.0         1         0   \n",
       "4        user152  562.77   39          20171217  67000.0         1         0   \n",
       "...          ...     ...  ...               ...      ...       ...       ...   \n",
       "16571   user3335   14.68   72          20180318  74000.0         1         0   \n",
       "16574  user12382    3.19   50          20180107  60000.0         0         1   \n",
       "16575  user13051   15.35   73          20180501  65000.0         1         0   \n",
       "16576  user13346    0.76   42          20171104  69000.0         0         1   \n",
       "16577  user16339   11.44   56          20171024  61000.0         0         1   \n",
       "\n",
       "       gender_O  \n",
       "0             0  \n",
       "1             0  \n",
       "2             0  \n",
       "3             0  \n",
       "4             0  \n",
       "...         ...  \n",
       "16571         0  \n",
       "16574         0  \n",
       "16575         0  \n",
       "16576         0  \n",
       "16577         0  \n",
       "\n",
       "[14492 rows x 8 columns]"
      ]
     },
     "execution_count": 35,
     "metadata": {},
     "output_type": "execute_result"
    }
   ],
   "source": [
    "profileb"
   ]
  },
  {
   "cell_type": "code",
   "execution_count": 36,
   "id": "defc3ebd-5103-462d-8ba5-2df95e1a1ab7",
   "metadata": {},
   "outputs": [],
   "source": [
    "profileb['became_member_on'] = pd.to_datetime(profileb['became_member_on'], format='%Y%m%d').apply(lambda x: x.toordinal())"
   ]
  },
  {
   "cell_type": "code",
   "execution_count": 37,
   "id": "2db6ac13-aedb-4e0b-a344-64098abb2362",
   "metadata": {},
   "outputs": [],
   "source": [
    "profileb['amount'] = profileb['amount'].apply(lambda x: round(x/50)) .astype(int)"
   ]
  },
  {
   "cell_type": "code",
   "execution_count": 38,
   "id": "42ea14ec-fbfc-4661-99b1-1039cf50ffe1",
   "metadata": {},
   "outputs": [],
   "source": [
    "profileb['income'] = profileb['income'].astype(int)"
   ]
  },
  {
   "cell_type": "code",
   "execution_count": 39,
   "id": "774ca378-70e0-4367-8135-972d34f6a743",
   "metadata": {},
   "outputs": [
    {
     "data": {
      "text/html": [
       "<div>\n",
       "<style scoped>\n",
       "    .dataframe tbody tr th:only-of-type {\n",
       "        vertical-align: middle;\n",
       "    }\n",
       "\n",
       "    .dataframe tbody tr th {\n",
       "        vertical-align: top;\n",
       "    }\n",
       "\n",
       "    .dataframe thead th {\n",
       "        text-align: right;\n",
       "    }\n",
       "</style>\n",
       "<table border=\"1\" class=\"dataframe\">\n",
       "  <thead>\n",
       "    <tr style=\"text-align: right;\">\n",
       "      <th></th>\n",
       "      <th>user</th>\n",
       "      <th>amount</th>\n",
       "      <th>age</th>\n",
       "      <th>became_member_on</th>\n",
       "      <th>income</th>\n",
       "      <th>gender_F</th>\n",
       "      <th>gender_M</th>\n",
       "      <th>gender_O</th>\n",
       "    </tr>\n",
       "  </thead>\n",
       "  <tbody>\n",
       "    <tr>\n",
       "      <th>0</th>\n",
       "      <td>user42</td>\n",
       "      <td>1</td>\n",
       "      <td>20</td>\n",
       "      <td>736156</td>\n",
       "      <td>30000</td>\n",
       "      <td>1</td>\n",
       "      <td>0</td>\n",
       "      <td>0</td>\n",
       "    </tr>\n",
       "    <tr>\n",
       "      <th>1</th>\n",
       "      <td>user56</td>\n",
       "      <td>6</td>\n",
       "      <td>42</td>\n",
       "      <td>735980</td>\n",
       "      <td>96000</td>\n",
       "      <td>0</td>\n",
       "      <td>1</td>\n",
       "      <td>0</td>\n",
       "    </tr>\n",
       "    <tr>\n",
       "      <th>2</th>\n",
       "      <td>user64</td>\n",
       "      <td>2</td>\n",
       "      <td>36</td>\n",
       "      <td>736691</td>\n",
       "      <td>56000</td>\n",
       "      <td>0</td>\n",
       "      <td>1</td>\n",
       "      <td>0</td>\n",
       "    </tr>\n",
       "    <tr>\n",
       "      <th>3</th>\n",
       "      <td>user135</td>\n",
       "      <td>4</td>\n",
       "      <td>55</td>\n",
       "      <td>736618</td>\n",
       "      <td>94000</td>\n",
       "      <td>1</td>\n",
       "      <td>0</td>\n",
       "      <td>0</td>\n",
       "    </tr>\n",
       "    <tr>\n",
       "      <th>4</th>\n",
       "      <td>user152</td>\n",
       "      <td>11</td>\n",
       "      <td>39</td>\n",
       "      <td>736680</td>\n",
       "      <td>67000</td>\n",
       "      <td>1</td>\n",
       "      <td>0</td>\n",
       "      <td>0</td>\n",
       "    </tr>\n",
       "    <tr>\n",
       "      <th>...</th>\n",
       "      <td>...</td>\n",
       "      <td>...</td>\n",
       "      <td>...</td>\n",
       "      <td>...</td>\n",
       "      <td>...</td>\n",
       "      <td>...</td>\n",
       "      <td>...</td>\n",
       "      <td>...</td>\n",
       "    </tr>\n",
       "    <tr>\n",
       "      <th>16571</th>\n",
       "      <td>user3335</td>\n",
       "      <td>0</td>\n",
       "      <td>72</td>\n",
       "      <td>736771</td>\n",
       "      <td>74000</td>\n",
       "      <td>1</td>\n",
       "      <td>0</td>\n",
       "      <td>0</td>\n",
       "    </tr>\n",
       "    <tr>\n",
       "      <th>16574</th>\n",
       "      <td>user12382</td>\n",
       "      <td>0</td>\n",
       "      <td>50</td>\n",
       "      <td>736701</td>\n",
       "      <td>60000</td>\n",
       "      <td>0</td>\n",
       "      <td>1</td>\n",
       "      <td>0</td>\n",
       "    </tr>\n",
       "    <tr>\n",
       "      <th>16575</th>\n",
       "      <td>user13051</td>\n",
       "      <td>0</td>\n",
       "      <td>73</td>\n",
       "      <td>736815</td>\n",
       "      <td>65000</td>\n",
       "      <td>1</td>\n",
       "      <td>0</td>\n",
       "      <td>0</td>\n",
       "    </tr>\n",
       "    <tr>\n",
       "      <th>16576</th>\n",
       "      <td>user13346</td>\n",
       "      <td>0</td>\n",
       "      <td>42</td>\n",
       "      <td>736637</td>\n",
       "      <td>69000</td>\n",
       "      <td>0</td>\n",
       "      <td>1</td>\n",
       "      <td>0</td>\n",
       "    </tr>\n",
       "    <tr>\n",
       "      <th>16577</th>\n",
       "      <td>user16339</td>\n",
       "      <td>0</td>\n",
       "      <td>56</td>\n",
       "      <td>736626</td>\n",
       "      <td>61000</td>\n",
       "      <td>0</td>\n",
       "      <td>1</td>\n",
       "      <td>0</td>\n",
       "    </tr>\n",
       "  </tbody>\n",
       "</table>\n",
       "<p>14492 rows × 8 columns</p>\n",
       "</div>"
      ],
      "text/plain": [
       "            user  amount  age  became_member_on  income  gender_F  gender_M  \\\n",
       "0         user42       1   20            736156   30000         1         0   \n",
       "1         user56       6   42            735980   96000         0         1   \n",
       "2         user64       2   36            736691   56000         0         1   \n",
       "3        user135       4   55            736618   94000         1         0   \n",
       "4        user152      11   39            736680   67000         1         0   \n",
       "...          ...     ...  ...               ...     ...       ...       ...   \n",
       "16571   user3335       0   72            736771   74000         1         0   \n",
       "16574  user12382       0   50            736701   60000         0         1   \n",
       "16575  user13051       0   73            736815   65000         1         0   \n",
       "16576  user13346       0   42            736637   69000         0         1   \n",
       "16577  user16339       0   56            736626   61000         0         1   \n",
       "\n",
       "       gender_O  \n",
       "0             0  \n",
       "1             0  \n",
       "2             0  \n",
       "3             0  \n",
       "4             0  \n",
       "...         ...  \n",
       "16571         0  \n",
       "16574         0  \n",
       "16575         0  \n",
       "16576         0  \n",
       "16577         0  \n",
       "\n",
       "[14492 rows x 8 columns]"
      ]
     },
     "execution_count": 39,
     "metadata": {},
     "output_type": "execute_result"
    }
   ],
   "source": [
    "profileb"
   ]
  },
  {
   "cell_type": "code",
   "execution_count": 40,
   "id": "528a97b1-e023-47a3-8976-a0bd8a080ea8",
   "metadata": {},
   "outputs": [
    {
     "data": {
      "image/png": "[encoded data removed]",
      "text/plain": [
       "<Figure size 432x288 with 2 Axes>"
      ]
     },
     "metadata": {
      "needs_background": "light"
     },
     "output_type": "display_data"
    }
   ],
   "source": [
    "plt.figure()\n",
    "sns.heatmap(profileb[['amount' , 'age' , 'became_member_on' , 'income', 'gender_F' , 'gender_M' , 'gender_O']].corr(), annot=True, cmap='Reds');\n",
    "\n"
   ]
  },
  {
   "cell_type": "code",
   "execution_count": 41,
   "id": "d89b0e23-55e0-4222-8203-384002d45820",
   "metadata": {},
   "outputs": [],
   "source": [
    "X = profileb[['age' , 'became_member_on' , 'income', 'gender_F' , 'gender_M' , 'gender_O']]\n",
    "y = profileb['amount']\n",
    "X_train, X_test, y_train, y_test = train_test_split(X, y)\n"
   ]
  },
  {
   "cell_type": "code",
   "execution_count": 42,
   "id": "266d5272-eee6-49dc-8a8b-fea930cb4199",
   "metadata": {},
   "outputs": [
    {
     "data": {
      "text/plain": [
       "RandomForestClassifier(n_estimators=200)"
      ]
     },
     "execution_count": 42,
     "metadata": {},
     "output_type": "execute_result"
    }
   ],
   "source": [
    "clf = RandomForestClassifier(n_estimators = 200)\n",
    "clf.fit(X_train,y_train)"
   ]
  },
  {
   "cell_type": "code",
   "execution_count": 43,
   "id": "80bf7718-3fb0-4787-94b3-3d9d5a08d150",
   "metadata": {},
   "outputs": [],
   "source": [
    "y_pred = clf.predict(X_test)"
   ]
  },
  {
   "cell_type": "code",
   "execution_count": 44,
   "id": "4ca81cc1-b449-4c43-bc7b-3a88d1121d44",
   "metadata": {},
   "outputs": [
    {
     "data": {
      "text/plain": [
       "array([2, 1, 3, ..., 0, 4, 2])"
      ]
     },
     "execution_count": 44,
     "metadata": {},
     "output_type": "execute_result"
    }
   ],
   "source": [
    "y_pred"
   ]
  },
  {
   "cell_type": "code",
   "execution_count": 45,
   "id": "6d181674-2093-43a7-8637-ac4080234b88",
   "metadata": {},
   "outputs": [
    {
     "data": {
      "text/plain": [
       "13417    2\n",
       "5427     1\n",
       "4949     2\n",
       "1702     4\n",
       "977      3\n",
       "        ..\n",
       "12058    2\n",
       "15522    3\n",
       "15383    0\n",
       "9456     3\n",
       "1244     3\n",
       "Name: amount, Length: 3623, dtype: int32"
      ]
     },
     "execution_count": 45,
     "metadata": {},
     "output_type": "execute_result"
    }
   ],
   "source": [
    "y_test"
   ]
  },
  {
   "cell_type": "code",
   "execution_count": 46,
   "id": "c2134253-3817-4c3f-bfbc-07673b0bd18e",
   "metadata": {},
   "outputs": [
    {
     "name": "stdout",
     "output_type": "stream",
     "text": [
      "Accuracy: 0.32072867789125037\n"
     ]
    }
   ],
   "source": [
    "print(\"Accuracy:\", accuracy_score(y_pred, y_test))"
   ]
  },
  {
   "cell_type": "code",
   "execution_count": 47,
   "id": "265ee91c-2603-427c-9700-9dd4e4571ed0",
   "metadata": {},
   "outputs": [],
   "source": [
    "Accuracy: 0.31576041954181616"
   ]
  },
  {
   "cell_type": "raw",
   "id": "bb226512-cff2-4a91-91f1-8e2c520c510c",
   "metadata": {},
   "source": [
    "PROXIMO PASSO\n",
    "\n",
    "Colocar ofertas recebidas por cada usuario na planilha profileB\n",
    "acrescentar 10 colunas na profileb e depois atualizar uma por uma com as ofertas recebidas por cada usuario"
   ]
  }
 ],
 "metadata": {
  "kernelspec": {
   "display_name": "Python 3",
   "language": "python",
   "name": "python3"
  },
  "language_info": {
   "codemirror_mode": {
    "name": "ipython",
    "version": 3
   },
   "file_extension": ".py",
   "mimetype": "text/x-python",
   "name": "python",
   "nbconvert_exporter": "python",
   "pygments_lexer": "ipython3",
   "version": "3.8.10"
  }
 },
 "nbformat": 4,
 "nbformat_minor": 5
}
